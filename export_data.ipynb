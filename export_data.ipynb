{
 "cells": [
  {
   "cell_type": "code",
   "execution_count": 10,
   "id": "72909940",
   "metadata": {},
   "outputs": [],
   "source": [
    "from datasets import load_dataset\n",
    "import pandas as pd\n",
    "dataset_path = \"songlab/TraitGym\"\n",
    "# dataset_config = \"mendelian_traits\"\n",
    "dataset_config = \"complex_traits\"\n",
    "model_path = \"songlab/gpn-animal-promoter\"\n",
    "# in the paper we average with the predictions with the reverse complement\n",
    "# however for a quick evaluation you can omit this\n",
    "average_rc = False\n",
    "dataset = load_dataset(dataset_path, dataset_config, split=\"test\").to_pandas()\n",
    "dataset[\"chrom\"] = dataset[\"chrom\"].apply(lambda x: \"chr\" + x)\n"
   ]
  },
  {
   "cell_type": "code",
   "execution_count": 11,
   "id": "ada26b85",
   "metadata": {},
   "outputs": [],
   "source": [
    "import pandas as pd\n",
    "export = pd.concat([\n",
    "\tdataset[[\"chrom\",\"pos\",\"ref\",\"alt\"]], \n",
    "\tdataset[[\"chrom\",\"pos\",\"ref\",\"alt\"]]\n",
    "\t]\n",
    "\t)\n",
    "export[\"strand\"] = [1]*(len(export)//2) + [-1]*(len(export)//2)\n",
    "export.to_csv(\"data/dataset4promoter_ai.tsv\", sep=\"\\t\", header=False, index=False)"
   ]
  },
  {
   "cell_type": "code",
   "execution_count": 13,
   "id": "ac2f3639",
   "metadata": {},
   "outputs": [
    {
     "name": "stdout",
     "output_type": "stream",
     "text": [
      "chr22\t49967092\tT\tG\t-1\n",
      "chr22\t50006148\tA\tG\t-1\n",
      "chr22\t50186650\tG\tC\t-1\n",
      "chr22\t50190508\tG\tA\t-1\n",
      "chr22\t50343347\tG\tC\t-1\n",
      "chr22\t50368376\tT\tC\t-1\n",
      "chr22\t50571623\tC\tT\t-1\n",
      "chr22\t50671289\tG\tA\t-1\n",
      "chr22\t50713837\tC\tG\t-1\n",
      "chr22\t50783672\tG\tT\t-1\n"
     ]
    }
   ],
   "source": [
    "!tail data/dataset4promoter_ai.tsv"
   ]
  },
  {
   "cell_type": "code",
   "execution_count": null,
   "id": "30ec1d1f",
   "metadata": {},
   "outputs": [],
   "source": []
  }
 ],
 "metadata": {
  "kernelspec": {
   "display_name": "horovod",
   "language": "python",
   "name": "python3"
  },
  "language_info": {
   "codemirror_mode": {
    "name": "ipython",
    "version": 3
   },
   "file_extension": ".py",
   "mimetype": "text/x-python",
   "name": "python",
   "nbconvert_exporter": "python",
   "pygments_lexer": "ipython3",
   "version": "3.8.13"
  }
 },
 "nbformat": 4,
 "nbformat_minor": 5
}
